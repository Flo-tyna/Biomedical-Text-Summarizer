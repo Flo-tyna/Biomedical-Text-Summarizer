{
 "cells": [
  {
   "cell_type": "markdown",
   "metadata": {},
   "source": [
    "\n",
    "### 02. Gensim - modified Text Rank Algorithm\n",
    "\n",
    "pip install gensim\n",
    "\n",
    "pip install gensim_sum_ext\n",
    "\n",
    "Gensim uses textrank summarization algorithm\n",
    "The Gensim module provides functions for summarizing texts. \n",
    "Summarizing is based on ranks of text sentences using a variation of the TextRank algorithm<br>\n",
    "ref: https://www.machinelearningplus.com/nlp/gensim-tutorial/\n",
    "\n",
    "\n",
    "TextRank is based on PageRank algorithm that is used on Google Search Engine. In simple words, it prefers pages which has higher number of pages hitting it. Traditionally, the links between pages are expressed by matrix. This matrix is then converted to a transition probability matrix by dividing the sum of links in each page which influences the path of the surfer.\n",
    "#ref:https://towardsdatascience.com/data-scientists-guide-to-summarization-fc0db952e363"
   ]
  },
  {
   "cell_type": "code",
   "execution_count": 1,
   "metadata": {},
   "outputs": [],
   "source": [
    "# load the libraries\n",
    "from gensim.summarization import summarize\n",
    "from gensim.summarization import keywords\n",
    "import warnings\n",
    "warnings.filterwarnings(\"ignore\")\n",
    "import pandas as pd\n"
   ]
  },
  {
   "cell_type": "code",
   "execution_count": 2,
   "metadata": {},
   "outputs": [],
   "source": [
    "# Our Text\n",
    "df=pd.read_csv(\"capstone_data.csv\")\n",
    "text=df['text_body'][1]"
   ]
  },
  {
   "cell_type": "code",
   "execution_count": 6,
   "metadata": {},
   "outputs": [],
   "source": [
    "#Using gensim is relatively easy\n",
    "#Call on the summarize function and condense the document\n",
    "#I do have the option of creating my own word embedding and optimizing the summarization.\n",
    "#However,I want to use a pre trained word embedding\n",
    "summary_txt = summarize(text)"
   ]
  },
  {
   "cell_type": "code",
   "execution_count": 7,
   "metadata": {},
   "outputs": [
    {
     "name": "stdout",
     "output_type": "stream",
     "text": [
      "Length of text with spaces and punctuation is: 4104\n",
      "Word count of text is: 605\n"
     ]
    }
   ],
   "source": [
    "# length of summarized text and word count\n",
    "print(\"Length of text with spaces and punctuation is:\",len(summary_txt))\n",
    "print(\"Word count of text is:\",len(summary_txt.split()))"
   ]
  },
  {
   "cell_type": "code",
   "execution_count": 9,
   "metadata": {},
   "outputs": [
    {
     "data": {
      "text/plain": [
       "['As we confront the potential need to return to more stringent infection control measures once again, this is an appropriate time to reflect on the ethical values that underlay the strict visitation restrictions imposed in hospitals in Ontario during the SARS outbreak and the moderate restrictions in place since SARS.',\n",
       " 'Our infectious disease colleagues are adamant that restricting the movement of people into and around the hospital setting are effective clinical and epidemiological strategies that will help protect both the vulnerable patient population and health care providers themselves, who need to stay healthy so that they may care for their patients.',\n",
       " \"It could be argued that visitation restrictions, in light of a potential outbreak of a contagious disease, are ethically sound because of the compelling need to protect public health.However, even when public health concerns trump individual liberties, the ethical operationalization of this value would demand that 'those whose rights are being infringed' need to be managed in 'an ethical and even-handed manner so that they are not unfairly or disproportionately harmed by such measures' [1].This is an important and far-reaching consideration because SARS caused collateral damage and we know that the implementation of visitation restrictions will have an impact on a broad range of individuals.\",\n",
       " 'Clearly, these restrictions are reflective of a loss of civil liberties in the general population and render expressions of caring difficult at a time when people may need them the most.In a health care institution, visitation restrictions not only affect inpatients but also have an impact on ambulatory patients who must come for diagnostic tests or interventions and who, if deprived access, might develop urgent or emergent conditions.',\n",
       " 'Ultimately, this is a set of problems that must be managed with sensitivity and clarity (Nyhof-Young and colleagues, unpublished data).In view of the magnitude of implications of visitor restriction, it is important that policy decisions, at the micro or macro level, consider issues of equity, publicity, transparency and the appeal process.',\n",
       " 'Furthermore, to be consistent with expectations of transparency, the criteria by which exceptionality to the rules of visitation restriction exists should also be published openly throughout the organization for staff, patients and visitors.',\n",
       " 'For example, although current policy allows for specific times of visitation and numbers of visitors per day, a sudden outbreak might dictate a quick lockdown of the facility without patients or family members receiving prior notice.',\n",
       " 'Moreover, health care workers, being in direct communication with patients and families, bear the brunt of their anger and frustration regarding any restriction in visitation.There is an implicit acceptance that reciprocity exists between the hospital organization and the individual staff member [1].',\n",
       " 'Although the vigilant observer might be able to identify a specific person from a changed application of the rule, the organization cannot reasonably be expected to guard against every possible identification, but every effort should be made to protect the individual from easy identification.',\n",
       " 'It is ethical to accept that public health protection trumps individual rights to liberal visitation.',\n",
       " 'The rationale for this position must be fully outlined to patients, visitors and staff.In responding to visitors who may be deprived of visitation, it is ethical to recognize that there may be exceptional circumstances that demand exceptional latitude.',\n",
       " \"Every reasonable effort should be made to protect the individual patient's identity and their specific health status should exceptionality be considered.It is ethically the responsibility of the organization to enforce compliance with restricted visitation and a corporate department should be assigned this task.Although it is recognized that standardization in the application of visitation restrictions is necessary, there is recognition that there may be circumstances that would require deviation from the corporate position.\"]"
      ]
     },
     "execution_count": 9,
     "metadata": {},
     "output_type": "execute_result"
    }
   ],
   "source": [
    "#Get the Result as A List of String\n",
    "# using split=True\n",
    "\n",
    "list_sum=summarize(text,split=True)\n",
    "list_sum"
   ]
  },
  {
   "cell_type": "markdown",
   "metadata": {},
   "source": [
    "### ratio\n",
    "- default is 0.2 or 20%\n",
    "word_count"
   ]
  },
  {
   "cell_type": "code",
   "execution_count": 11,
   "metadata": {},
   "outputs": [],
   "source": [
    "# Gensim provides summarization based on the word count or ratio of the original text required\n",
    "#The default ratio is 20%\n",
    "#Get 50% of summary output\n",
    "fifty_sum=summarize(text,ratio=0.5)\n"
   ]
  },
  {
   "cell_type": "code",
   "execution_count": 12,
   "metadata": {},
   "outputs": [
    {
     "data": {
      "text/plain": [
       "\"The sudden emergence of severe acute respiratory syndrome (SARS) in April 2003 caused much concern and reaction.\\nAs we confront the potential need to return to more stringent infection control measures once again, this is an appropriate time to reflect on the ethical values that underlay the strict visitation restrictions imposed in hospitals in Ontario during the SARS outbreak and the moderate restrictions in place since SARS.\\nWhen public health trumps civil liberties: the collateral damage associated with victims of SARS\\nOur infectious disease colleagues are adamant that restricting the movement of people into and around the hospital setting are effective clinical and epidemiological strategies that will help protect both the vulnerable patient population and health care providers themselves, who need to stay healthy so that they may care for their patients.\\nOne might argue, then, that visitation restrictions are both enhancing and supportive of public health protection.\\nThis position recognizes that there are times when public health protection overrides the protection of individual freedom.\\nIt could be argued that visitation restrictions, in light of a potential outbreak of a contagious disease, are ethically sound because of the compelling need to protect public health.However, even when public health concerns trump individual liberties, the ethical operationalization of this value would demand that 'those whose rights are being infringed' need to be managed in 'an ethical and even-handed manner so that they are not unfairly or disproportionately harmed by such measures' [1].This is an important and far-reaching consideration because SARS caused collateral damage and we know that the implementation of visitation restrictions will have an impact on a broad range of individuals.\\nHowever, there were people who had not demonstrated any risk or epidemiological link to a contagious disease but who experienced quarantine, restriction of movement, inconvenience, loss of pay, and inability to access important and sometimes vital services within the health care system.\\nClearly, these restrictions are reflective of a loss of civil liberties in the general population and render expressions of caring difficult at a time when people may need them the most.In a health care institution, visitation restrictions not only affect inpatients but also have an impact on ambulatory patients who must come for diagnostic tests or interventions and who, if deprived access, might develop urgent or emergent conditions.\\nIn fact, on review of the University Health Network corporate complaint database, SARS 1 (period March 28–April 20, 2003) and SARS 2 (period May 12–August 10, 2003) generated a 27% increase in complaints over the expected number of complaints for that time period.\\nUltimately, this is a set of problems that must be managed with sensitivity and clarity (Nyhof-Young and colleagues, unpublished data).In view of the magnitude of implications of visitor restriction, it is important that policy decisions, at the micro or macro level, consider issues of equity, publicity, transparency and the appeal process.\\nFeedback should be sought from those individuals who would be affected by visitation restrictions, such as staff, patients and family members.\\nThe policy must be made accessible, printed and broadly circulated throughout the hospital so that people understand the rules, the rationale for those rules, the processes available to them to assist them in 'living with those rules' and ways to appeal in special circumstances.Visitation policy developers must realize that there may be exceptional circumstances that demand exceptional latitude.\\nFurthermore, to be consistent with expectations of transparency, the criteria by which exceptionality to the rules of visitation restriction exists should also be published openly throughout the organization for staff, patients and visitors.\\nFor example, although current policy allows for specific times of visitation and numbers of visitors per day, a sudden outbreak might dictate a quick lockdown of the facility without patients or family members receiving prior notice.\\nA health care professional has a duty to care, based on several ethical considerations [1] such as professional code of conduct, intrinsic requirements of the work and the acceptance of risk as part of the decision to do a specific type of work.\\nVisitation restrictions impede this ability because health care providers find themselves in the awkward position of conveying very private, personal messages between patients and family members, of providing updates and of breaking bad news over the phone, thus losing their ability to convey empathy or judge the amount of support required effectively.\\nMoreover, health care workers, being in direct communication with patients and families, bear the brunt of their anger and frustration regarding any restriction in visitation.There is an implicit acceptance that reciprocity exists between the hospital organization and the individual staff member [1].\\nTo this end, it is the organization that must accept responsibility for making rules and communicating them broadly to all staff, patients and visitors.\\nThe organization also has the responsibility of developing a set of criteria outlining exceptionality and a process to receive, review and adjudicate requests.\\nA process must be developed (together with appropriate resources) so that staff members know who to access for support and are able to do this is in an easy and expeditious manner.\\nIn the interests of the public good, there may be times when information must be shared publicly, thereby impinging on the rights of the individual to privacy and confidentiality.\\nAlthough the vigilant observer might be able to identify a specific person from a changed application of the rule, the organization cannot reasonably be expected to guard against every possible identification, but every effort should be made to protect the individual from easy identification.\\nEfforts to protect the patient's identity are consistent with the ethical value of 'protection of communities from undue stigmatization' [1].\\nGiven the risks associated with contagious pathogens and the easy mode of transmission globally, it is important that there be consistency in management.\\nHowever, given the political and economic disparities across the world as well as the lack of knowledge (particularly of newly evolving pathogens), a standardized approach is not possible.The experience of SARS indicates that some patient populations require a level of vigilance that is more stringent than that required in others.\\nThis type of variability in vigilance demands ethical management of differences, and there is a need to guard against overt bias or discrimination creeping into the process.It is difficult to expect that both standardization of approach and variability in approach can easily coexist, but the operational challenge is to exercise awareness of the ethical values discussed above and the appropriate due diligence in the implementation of processes.\\nIt is ethical to accept that public health protection trumps individual rights to liberal visitation.\\nThe rationale for this position must be fully outlined to patients, visitors and staff.In responding to visitors who may be deprived of visitation, it is ethical to recognize that there may be exceptional circumstances that demand exceptional latitude.\\nA set of criteria outlining exceptionality should be developed, as should a process to receive, review and adjudicate requests.\\nThis information should be well publicized to staff, patients and visitors in a consistent and sensitive manner.\\nEvery reasonable effort should be made to protect the individual patient's identity and their specific health status should exceptionality be considered.It is ethically the responsibility of the organization to enforce compliance with restricted visitation and a corporate department should be assigned this task.Although it is recognized that standardization in the application of visitation restrictions is necessary, there is recognition that there may be circumstances that would require deviation from the corporate position.\""
      ]
     },
     "execution_count": 12,
     "metadata": {},
     "output_type": "execute_result"
    }
   ],
   "source": [
    "fifty_sum"
   ]
  },
  {
   "cell_type": "code",
   "execution_count": 13,
   "metadata": {},
   "outputs": [
    {
     "name": "stdout",
     "output_type": "stream",
     "text": [
      "Length of text with spaces and punctuation is: 8241\n",
      "Word count of text is: 1232\n"
     ]
    }
   ],
   "source": [
    "# length of summarized text and word count\n",
    "print(\"Length of text with spaces and punctuation is:\",len(fifty_sum))\n",
    "print(\"Word count of text is:\",len(fifty_sum.split()))"
   ]
  },
  {
   "cell_type": "code",
   "execution_count": 14,
   "metadata": {
    "scrolled": true
   },
   "outputs": [
    {
     "data": {
      "text/plain": [
       "\"It could be argued that visitation restrictions, in light of a potential outbreak of a contagious disease, are ethically sound because of the compelling need to protect public health.However, even when public health concerns trump individual liberties, the ethical operationalization of this value would demand that 'those whose rights are being infringed' need to be managed in 'an ethical and even-handed manner so that they are not unfairly or disproportionately harmed by such measures' [1].This is an important and far-reaching consideration because SARS caused collateral damage and we know that the implementation of visitation restrictions will have an impact on a broad range of individuals.\\nClearly, these restrictions are reflective of a loss of civil liberties in the general population and render expressions of caring difficult at a time when people may need them the most.In a health care institution, visitation restrictions not only affect inpatients but also have an impact on ambulatory patients who must come for diagnostic tests or interventions and who, if deprived access, might develop urgent or emergent conditions.\\nMoreover, health care workers, being in direct communication with patients and families, bear the brunt of their anger and frustration regarding any restriction in visitation.There is an implicit acceptance that reciprocity exists between the hospital organization and the individual staff member [1].\""
      ]
     },
     "execution_count": 14,
     "metadata": {},
     "output_type": "execute_result"
    }
   ],
   "source": [
    "five_sum=summarize(text,ratio=0.05)\n",
    "five_sum"
   ]
  },
  {
   "cell_type": "code",
   "execution_count": 15,
   "metadata": {},
   "outputs": [
    {
     "name": "stdout",
     "output_type": "stream",
     "text": [
      "Length of text with spaces and punctuation is: 1442\n",
      "Word count of text is: 215\n"
     ]
    }
   ],
   "source": [
    "\n",
    "# length of summarized text and word count\n",
    "print(\"Length of text with spaces and punctuation is:\",len(five_sum))\n",
    "print(\"Word count of text is:\",len(five_sum.split()))"
   ]
  },
  {
   "cell_type": "code",
   "execution_count": 44,
   "metadata": {},
   "outputs": [
    {
     "data": {
      "text/plain": [
       "''"
      ]
     },
     "execution_count": 44,
     "metadata": {},
     "output_type": "execute_result"
    }
   ],
   "source": [
    "#Getting the Maximum amount of words in the summary.\n",
    "#using word_count\n",
    "\n",
    "# Words about 50\n",
    "word_count50 =summarize(text, word_count=50,split=False)\n",
    "word_count50"
   ]
  },
  {
   "cell_type": "code",
   "execution_count": 45,
   "metadata": {
    "scrolled": true
   },
   "outputs": [
    {
     "data": {
      "text/plain": [
       "\"It could be argued that visitation restrictions, in light of a potential outbreak of a contagious disease, are ethically sound because of the compelling need to protect public health.However, even when public health concerns trump individual liberties, the ethical operationalization of this value would demand that 'those whose rights are being infringed' need to be managed in 'an ethical and even-handed manner so that they are not unfairly or disproportionately harmed by such measures' [1].This is an important and far-reaching consideration because SARS caused collateral damage and we know that the implementation of visitation restrictions will have an impact on a broad range of individuals.\""
      ]
     },
     "execution_count": 45,
     "metadata": {},
     "output_type": "execute_result"
    }
   ],
   "source": [
    "#Getting the Maximum amount of words in the summary.\n",
    "#using word_count\n",
    "\n",
    "# Words about 100\n",
    "word_count80 =summarize(text, word_count=80,split=False)\n",
    "word_count80"
   ]
  },
  {
   "cell_type": "code",
   "execution_count": 48,
   "metadata": {},
   "outputs": [
    {
     "data": {
      "text/plain": [
       "\"It could be argued that visitation restrictions, in light of a potential outbreak of a contagious disease, are ethically sound because of the compelling need to protect public health.However, even when public health concerns trump individual liberties, the ethical operationalization of this value would demand that 'those whose rights are being infringed' need to be managed in 'an ethical and even-handed manner so that they are not unfairly or disproportionately harmed by such measures' [1].This is an important and far-reaching consideration because SARS caused collateral damage and we know that the implementation of visitation restrictions will have an impact on a broad range of individuals.\""
      ]
     },
     "execution_count": 48,
     "metadata": {},
     "output_type": "execute_result"
    }
   ],
   "source": [
    "#Getting the Maximum amount of words in the summary.\n",
    "#using word_count\n",
    "\n",
    "# Words about 100\n",
    "word_count100 =summarize(text, word_count=110,split=False)\n",
    "word_count100"
   ]
  },
  {
   "cell_type": "code",
   "execution_count": 49,
   "metadata": {
    "scrolled": true
   },
   "outputs": [
    {
     "data": {
      "text/plain": [
       "\"It could be argued that visitation restrictions, in light of a potential outbreak of a contagious disease, are ethically sound because of the compelling need to protect public health.However, even when public health concerns trump individual liberties, the ethical operationalization of this value would demand that 'those whose rights are being infringed' need to be managed in 'an ethical and even-handed manner so that they are not unfairly or disproportionately harmed by such measures' [1].This is an important and far-reaching consideration because SARS caused collateral damage and we know that the implementation of visitation restrictions will have an impact on a broad range of individuals.\""
      ]
     },
     "execution_count": 49,
     "metadata": {},
     "output_type": "execute_result"
    }
   ],
   "source": [
    "#Getting the Maximum amount of words in the summary.\n",
    "#using word_count\n",
    "\n",
    "# Words about 110\n",
    "word_count110 =summarize(text, word_count=110,split=False)\n",
    "word_count110"
   ]
  },
  {
   "cell_type": "code",
   "execution_count": 50,
   "metadata": {},
   "outputs": [
    {
     "name": "stdout",
     "output_type": "stream",
     "text": [
      "Word count of summarized text50 is: 0\n",
      "Word count of summarized text80 is: 105\n",
      "Word count of summarized text100 is: 105\n",
      "Word count of summarized text110 is: 105\n"
     ]
    }
   ],
   "source": [
    "print(\"Word count of summarized text50 is:\",len(word_count50.split()))\n",
    "print(\"Word count of summarized text80 is:\",len(word_count80.split()))\n",
    "print(\"Word count of summarized text100 is:\",len(word_count100.split()))\n",
    "print(\"Word count of summarized text110 is:\",len(word_count110.split()))"
   ]
  },
  {
   "cell_type": "markdown",
   "metadata": {},
   "source": [
    "- By specifying the max length of the summary, the word count is within the max count threshold value of 110.\n",
    "- The disadvantage to using the word count is that the summary generated has a cutoff threshold.\n",
    "- As seen in the results above, despite specifying a word count of 50, 80 and 100, the summary obtained was of length 105 words.\n",
    "- This threshold is not a specific word count, I think its based on the probability matrix generated.\n",
    "- or based on the length of the summary sentence.\n",
    "- I haven't explored this but I plan on doing so, in the future"
   ]
  },
  {
   "cell_type": "code",
   "execution_count": 19,
   "metadata": {},
   "outputs": [
    {
     "data": {
      "text/plain": [
       "{'rouge1': Score(precision=0.49321266968325794, recall=0.6728395061728395, fmeasure=0.5691906005221933),\n",
       " 'rouge2': Score(precision=0.30454545454545456, recall=0.4161490683229814, fmeasure=0.35170603674540685)}"
      ]
     },
     "execution_count": 19,
     "metadata": {},
     "output_type": "execute_result"
    }
   ],
   "source": [
    "#Evaluation\n",
    "#Read the reference summary\n",
    "ref_summary = '''Our infectious disease colleagues are adamant that restricting the movement of people into and around the hospital setting are effective clinical and epidemiological strategies that will help protect both the vulnerable patient population and health care providers themselves, \n",
    "who need to stay healthy so that they may care for their patients. In a health care institution, visitation restrictions not only affect inpatients but also have an impact on ambulatory patients who must come for diagnostic tests or interventions and who, if deprived access, might develop urgent or emergent conditions.\n",
    "Feedback should be sought from those individuals who would be affected by visitation restrictions, such as staff, patients and family members.Health care workers, being in direct communication with patients and families, bear the brunt of their anger and frustration regarding any restriction in visitation.\n",
    "If a family is allowed to visit a patient whose death is presumed to be imminent, then the patient's identity should be protected by using privacy strategies.\n",
    "'''\n",
    "from rouge_score import rouge_scorer\n",
    "\n",
    "scorer = rouge_scorer.RougeScorer(['rouge1','rouge2'], use_stemmer=True)\n",
    "scores = scorer.score(ref_summary,five_sum)\n",
    "                      \n",
    "scores"
   ]
  },
  {
   "cell_type": "code",
   "execution_count": 22,
   "metadata": {},
   "outputs": [
    {
     "name": "stdout",
     "output_type": "stream",
     "text": [
      "Word count of full text is: 1801\n",
      "Word count of summarized text is: 215\n",
      "Reading time of full text (mins): 6.796226415094339\n",
      "Reading time of summary(mins): 0.8113207547169812\n",
      "The Rouge Metrics are:\n",
      "\n"
     ]
    },
    {
     "data": {
      "text/plain": [
       "{'rouge1': Score(precision=0.49321266968325794, recall=0.6728395061728395, fmeasure=0.5691906005221933),\n",
       " 'rouge2': Score(precision=0.30454545454545456, recall=0.4161490683229814, fmeasure=0.35170603674540685)}"
      ]
     },
     "execution_count": 22,
     "metadata": {},
     "output_type": "execute_result"
    }
   ],
   "source": [
    "### length of full text and word count\n",
    "print(\"Word count of full text is:\",len(text.split()))\n",
    "# length of summarized text and word count\n",
    "print(\"Word count of summarized text is:\",len(five_sum.split()))\n",
    "\n",
    "#Reading time of text\n",
    "print('Reading time of full text (mins):',(len(text.split())/265))\n",
    "#Reading time of text\n",
    "print('Reading time of summary(mins):',(len(five_sum.split())/265))\n",
    "print('The Rouge Metrics are:\\n')\n",
    "scores"
   ]
  },
  {
   "cell_type": "markdown",
   "metadata": {},
   "source": [
    "- This model is performing well against a commercial summarizer.A unigram score of 0.67 is extremely good.\n",
    "- This means that the summary generated has captured 67% of the n-grams in the reference ssummary\n",
    "- The bigram model is also performing well with a score of 0.41\n",
    "- However, the main issue I have with this model is the lack of transparency in the actual process\n",
    "- The Gensim model works on a text rank algorith and I am unable to customize this model with the word embeddings and stop words.\n",
    "- In other words, its a little too easy to generate summaries and I'm skeptical."
   ]
  },
  {
   "cell_type": "code",
   "execution_count": null,
   "metadata": {},
   "outputs": [],
   "source": []
  }
 ],
 "metadata": {
  "kernelspec": {
   "display_name": "dl",
   "language": "python",
   "name": "dl"
  },
  "language_info": {
   "codemirror_mode": {
    "name": "ipython",
    "version": 3
   },
   "file_extension": ".py",
   "mimetype": "text/x-python",
   "name": "python",
   "nbconvert_exporter": "python",
   "pygments_lexer": "ipython3",
   "version": "3.6.11"
  }
 },
 "nbformat": 4,
 "nbformat_minor": 4
}
