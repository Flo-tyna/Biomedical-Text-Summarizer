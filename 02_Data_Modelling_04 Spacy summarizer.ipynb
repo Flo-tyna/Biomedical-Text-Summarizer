{
 "cells": [
  {
   "cell_type": "markdown",
   "metadata": {},
   "source": [
    "# Extractive Text Summarization- SpaCy"
   ]
  },
  {
   "cell_type": "markdown",
   "metadata": {},
   "source": [
    "### Install the foll packages in conda terminal\n",
    "- conda install -c conda-forge spacy\n",
    "- conda install -c conda-forge scispacy\n",
    "- -m spacy download en_core_sci_md (SciSpacy)\n",
    "\n",
    "!pip install -U spacy\n",
    "!pip install scispacy\n",
    "!pip install https://s3-us-west-2.amazonaws.com/ai2-s2-scispacy/releases/v0.2.4/en_core_sci_sm-0.2.4.tar.gz\n",
    "!pip install https://s3-us-west-2.amazonaws.com/ai2-s2-scispacy/releases/v0.2.4/en_ner_craft_md-0.2.4.tar.gz\n",
    "!pip install https://s3-us-west-2.amazonaws.com/ai2-s2-scispacy/releases/v0.2.4/en_ner_jnlpba_md-0.2.4.tar.gz\n",
    "!pip install https://s3-us-west-2.amazonaws.com/ai2-s2-scispacy/releases/v0.2.4/en_ner_bc5cdr_md-0.2.4.tar.gz\n",
    "!pip install https://s3-us-west-2.amazonaws.com/ai2-s2-scispacy/releases/v0.2.4/en_ner_bionlp13cg_md-0.2.4.tar.gz\n",
    "!pip install https://s3-us-west-2.amazonaws.com/ai2-s2-scispacy/releases/v0.2.4/en_core_sci_lg-0.2.4.tar.gz\n",
    "\n",
    "https://pypi.org/project/scispacy/\n",
    "\n",
    "source code for this notebook :https://spacy.io/usage/spacy-101\n",
    "https://jcharistech.wordpress.com/2018/12/31/text-summarization-using-spacy-and-python/\n"
   ]
  },
  {
   "cell_type": "code",
   "execution_count": 1,
   "metadata": {},
   "outputs": [
    {
     "name": "stderr",
     "output_type": "stream",
     "text": [
      "C:\\Users\\GregFlo\\anaconda3\\envs\\dl\\lib\\site-packages\\spacy\\util.py:275: UserWarning: [W031] Model 'en_ner_craft_md' (0.2.4) requires spaCy v2.2 and is incompatible with the current spaCy version (2.3.2). This may lead to unexpected results or runtime errors. To resolve this, download a newer compatible model or retrain your custom model with the current spaCy version. For more details and available updates, run: python -m spacy validate\n",
      "  warnings.warn(warn_msg)\n",
      "C:\\Users\\GregFlo\\anaconda3\\envs\\dl\\lib\\site-packages\\spacy\\util.py:275: UserWarning: [W031] Model 'en_ner_bc5cdr_md' (0.2.4) requires spaCy v2.2 and is incompatible with the current spaCy version (2.3.2). This may lead to unexpected results or runtime errors. To resolve this, download a newer compatible model or retrain your custom model with the current spaCy version. For more details and available updates, run: python -m spacy validate\n",
      "  warnings.warn(warn_msg)\n",
      "C:\\Users\\GregFlo\\anaconda3\\envs\\dl\\lib\\site-packages\\spacy\\util.py:275: UserWarning: [W031] Model 'en_ner_jnlpba_md' (0.2.4) requires spaCy v2.2 and is incompatible with the current spaCy version (2.3.2). This may lead to unexpected results or runtime errors. To resolve this, download a newer compatible model or retrain your custom model with the current spaCy version. For more details and available updates, run: python -m spacy validate\n",
      "  warnings.warn(warn_msg)\n",
      "C:\\Users\\GregFlo\\anaconda3\\envs\\dl\\lib\\site-packages\\spacy\\util.py:275: UserWarning: [W031] Model 'en_ner_bionlp13cg_md' (0.2.4) requires spaCy v2.2 and is incompatible with the current spaCy version (2.3.2). This may lead to unexpected results or runtime errors. To resolve this, download a newer compatible model or retrain your custom model with the current spaCy version. For more details and available updates, run: python -m spacy validate\n",
      "  warnings.warn(warn_msg)\n"
     ]
    }
   ],
   "source": [
    "#Source Code\n",
    "# Load Pkgs\n",
    "import numpy as np # linear algebra\n",
    "import pandas as pd # dataframe processing\n",
    "import spacy\n",
    "#scispaCy is a Python package containing spaCy models for processing biomedical, scientific or clinical text.\n",
    "#https://allenai.github.io/scispacy/\n",
    "import scispacy\n",
    "\n",
    "# Text Preprocessing Pkg\n",
    "from spacy.lang.en.stop_words import STOP_WORDS # stop words list\n",
    "from string import punctuation\n",
    "from collections import Counter\n",
    "from string import punctuation\n",
    "from spacy.tokenizer import Tokenizer\n",
    "#calling a pretrained biomedical model \n",
    "#Assigns context-specific token vectors, POS tags, dependency parse and named entities.\n",
    "#A full spaCy pipeline for biomedical data with a larger vocabulary and 50k word vectors.\n",
    "\n",
    "nlp = spacy.load(\"en_core_sci_md\") #the built-in load function.\n",
    "\n",
    "#NER specific models\n",
    "#https://towardsdatascience.com/using-scispacy-for-named-entity-recognition-785389e7918d\n",
    "import en_ner_craft_md\n",
    "import en_ner_bc5cdr_md\n",
    "import en_ner_jnlpba_md\n",
    "import en_ner_bionlp13cg_md\n",
    "\n",
    "#Tools for extracting & displaying data\n",
    "\n",
    "#text post processing\n",
    "from spacy import displacy   #for ner    \n"
   ]
  },
  {
   "cell_type": "markdown",
   "metadata": {},
   "source": [
    "### SpaCy\n",
    "SpaCy is a relatively new package for “Industrial strength NLP in Python” developed by Matt Honnibal at explosion.ai. It does not weigh the user down with decisions over what esoteric algorithms to use for common tasks and it’s fast. Incredibly fast (it’s implemented in Cython). It’s reasonably low-level, but very intuitive and performant.<br>\n",
    "ref:https://hackernoon.com/summarization-with-wine-reviews-using-spacy-b49f18399577\n",
    "\n",
    "\n",
    "### TF-IDF (Term Frequency-Inverse Document Frequency)\n",
    "TF-IDF (Term Frequency-Inverse Document Frequency) is often used in information retrieval and text mining to calculate the importance of a sentence for text summarization.\n",
    "The TF-IDF weight is composed of two terms:\n",
    "- **TF**: Term Frequency — Measures how frequently a term occurs in a document. Since every document is different in length, it is possible that a term would appear many more times in long documents than shorter ones. Thus, the term frequency is often divided by the document length, such as the total number of terms in the document, as a way of normalization.\n",
    "- TF(t) = (Number of times term t appears in a document) / (Total number of terms in the document)\n",
    "\n",
    "\n",
    "- **IDF**: Inverse Document Frequency — Measures how important a term is. While computing the term frequency, all terms are considered equally important. However, it is known that certain terms may appear a lot of times but have little importance in the document. We usually term these words stopwords. For example: is, are, they, and so on.\n",
    "- IDF(t) = log_e(Total number of documents / Number of documents with term t in it).\n",
    "\n",
    "TF-IDF is  good choice if you are dealing with a single domain. The text in this set is only fron the biomedical domain.\n",
    "A common term in a domain might be an important term in another domain. \n",
    "This notebook focuses on identifying the top sentences in an article as follows:\n",
    "- Tokenize the article using spaCy’s language model.\n",
    "- Extract important keywords and calculate normalized weight.\n",
    "- Calculate the importance of each sentence in the article based on keyword appearance.\n",
    "- Sort the sentences based on the calculated importance.<br>\n",
    "https://medium.com/better-programming/extractive-text-summarization-using-spacy-in-python-88ab96d1fd97"
   ]
  },
  {
   "cell_type": "code",
   "execution_count": 2,
   "metadata": {
    "scrolled": true
   },
   "outputs": [
    {
     "data": {
      "text/plain": [
       "\"Introduction\\n\\nThe sudden emergence of severe acute respiratory syndrome (SARS) in April 2003 caused much concern and reaction. Refereed medical journals ever since have been rife with articles about SARS. The eventual containment and treatment of SARS has seen a diminution of the massive media publicity and overt public concern. However, fears have recently surfaced about the potential for re-emergence of SARS in the near future. As we confront the potential need to return to more stringent infection control measures once again, this is an appropriate time to reflect on the ethical values that underlay the strict visitation restrictions imposed in hospitals in Ontario during the SARS outbreak and the moderate restrictions in place since SARS. This reflection will facilitate future decision making with respect to visitation restrictions.\\n\\nWhen public health trumps civil liberties: the collateral damage associated with victims of SARS\\n\\nOur infectious disease colleagues are adamant that restricting the movement of people into and around the hospital setting are effective clinical and epidemiological strategies that will help protect both the vulnerable patient population and health care providers themselves, who need to stay healthy so that they may care for their patients. One might argue, then, that visitation restrictions are both enhancing and supportive of public health protection. This position recognizes that there are times when public health protection overrides the protection of individual freedom. It could be argued that visitation restrictions, in light of a potential outbreak of a contagious disease, are ethically sound because of the compelling need to protect public health.However, even when public health concerns trump individual liberties, the ethical operationalization of this value would demand that 'those whose rights are being infringed' need to be managed in 'an ethical and even-handed manner so that they are not unfairly or disproportionately harmed by such measures' [1].This is an important and far-reaching consideration because SARS caused collateral damage and we know that the implementation of visitation restrictions will have an impact on a broad range of individuals. Understandably, those patients who were confirmed or suspected of being carriers of contagious pathogens were easily and directly identified. However, there were people who had not demonstrated any risk or epidemiological link to a contagious disease but who experienced quarantine, restriction of movement, inconvenience, loss of pay, and inability to access important and sometimes vital services within the health care system. In fact, there was a general trend within the populace toward avoiding meetings/gatherings, as well as kissing, hugging and even hand shaking. Clearly, these restrictions are reflective of a loss of civil liberties in the general population and render expressions of caring difficult at a time when people may need them the most.In a health care institution, visitation restrictions not only affect inpatients but also have an impact on ambulatory patients who must come for diagnostic tests or interventions and who, if deprived access, might develop urgent or emergent conditions. Restrictions are likely to cause distress, anxiety and increased complaints. In fact, on review of the University Health Network corporate complaint database, SARS 1 (period March 28–April 20, 2003) and SARS 2 (period May 12–August 10, 2003) generated a 27% increase in complaints over the expected number of complaints for that time period. Specifically, during this time period there would normally have been 770 calls of complaint, but with SARS 1 and 2 a total of 1052 calls of complaint were received. It should be stressed that these data are over and above the complaints received at each site of the corporation, which were not captured in the database. Ultimately, this is a set of problems that must be managed with sensitivity and clarity (Nyhof-Young and colleagues, unpublished data).In view of the magnitude of implications of visitor restriction, it is important that policy decisions, at the micro or macro level, consider issues of equity, publicity, transparency and the appeal process. Issues of equity must take into consideration the known facts from a scientific perspective as well as the range of approaches considered. In terms of transparency and due diligence, the rationale behind the policies and how they will be implemented should be as clear and unambiguous as possible. Feedback should be sought from those individuals who would be affected by visitation restrictions, such as staff, patients and family members. The policy must be made accessible, printed and broadly circulated throughout the hospital so that people understand the rules, the rationale for those rules, the processes available to them to assist them in 'living with those rules' and ways to appeal in special circumstances.Visitation policy developers must realize that there may be exceptional circumstances that demand exceptional latitude. The development of criteria for exceptionality must recognize the need for proportionality, ensuring that criteria are 'relevant, legitimate and necessary ... and should be applied without discrimination' [1]. Furthermore, to be consistent with expectations of transparency, the criteria by which exceptionality to the rules of visitation restriction exists should also be published openly throughout the organization for staff, patients and visitors. From our experience with SARS, a corporate policy was developed and there was an expectation that there would be compliance with this corporate policy. However, it was also acknowledged that local patient needs would dictate more or less stringent adherence to these rules, and that the degree of adherence might change quickly without the opportunity for broad notification. For example, although current policy allows for specific times of visitation and numbers of visitors per day, a sudden outbreak might dictate a quick lockdown of the facility without patients or family members receiving prior notice.\\n\\nHealth care workers' duty to care and the duty of institutions to support them\\n\\nA health care professional has a duty to care, based on several ethical considerations [1] such as professional code of conduct, intrinsic requirements of the work and the acceptance of risk as part of the decision to do a specific type of work. Part of this duty to care for patients encompasses a broader duty, in that one must care for their family as well. Visitation restrictions impede this ability because health care providers find themselves in the awkward position of conveying very private, personal messages between patients and family members, of providing updates and of breaking bad news over the phone, thus losing their ability to convey empathy or judge the amount of support required effectively. Moreover, health care workers, being in direct communication with patients and families, bear the brunt of their anger and frustration regarding any restriction in visitation.There is an implicit acceptance that reciprocity exists between the hospital organization and the individual staff member [1]. To this end, it is the organization that must accept responsibility for making rules and communicating them broadly to all staff, patients and visitors. Similarly, it is the responsibility of the organization to enforce compliance with these rules; it is not the responsibility of staff, whose primary responsibility is to discharge the duty of care to the patient. The organization also has the responsibility of developing a set of criteria outlining exceptionality and a process to receive, review and adjudicate requests. A process must be developed (together with appropriate resources) so that staff members know who to access for support and are able to do this is in an easy and expeditious manner.\\n\\nNaming names, naming communities: privacy of personal information and public need to know\\n\\nIn the interests of the public good, there may be times when information must be shared publicly, thereby impinging on the rights of the individual to privacy and confidentiality. With respect to restricted visitation, an ethical argument could be made that visitation restrictions (or latitude thereof) can be instituted generally, without specifically naming names. Although the vigilant observer might be able to identify a specific person from a changed application of the rule, the organization cannot reasonably be expected to guard against every possible identification, but every effort should be made to protect the individual from easy identification. For example, if a family is allowed to visit a patient whose death is presumed to be imminent (within the next 24 hours), then the patient's identity should be protected by using privacy strategies. Efforts to protect the patient's identity are consistent with the ethical value of 'protection of communities from undue stigmatization' [1].\\n\\nSARS in a globalized world\\n\\nGiven the risks associated with contagious pathogens and the easy mode of transmission globally, it is important that there be consistency in management. The ideal situation would be a consistent global approach to the management of each and every contagious pathogen. The notion of universal management strategies is very sensible (e.g. universal precautions with blood-borne conditions such HIV). However, given the political and economic disparities across the world as well as the lack of knowledge (particularly of newly evolving pathogens), a standardized approach is not possible.The experience of SARS indicates that some patient populations require a level of vigilance that is more stringent than that required in others. For example, those individuals who reported recent travel to high risk areas, and those who worked in quarantined or contaminated hospitals or who exhibited clear symptoms (e.g. fever, persistent cough) were scrutinized with more vigilance and were in fact treated differently than other visitors, until they were cleared through the screening process. This type of variability in vigilance demands ethical management of differences, and there is a need to guard against overt bias or discrimination creeping into the process.It is difficult to expect that both standardization of approach and variability in approach can easily coexist, but the operational challenge is to exercise awareness of the ethical values discussed above and the appropriate due diligence in the implementation of processes.\\n\\nConclusion\\n\\nIt is ethical to accept that public health protection trumps individual rights to liberal visitation. The rationale for this position must be fully outlined to patients, visitors and staff.In responding to visitors who may be deprived of visitation, it is ethical to recognize that there may be exceptional circumstances that demand exceptional latitude. A set of criteria outlining exceptionality should be developed, as should a process to receive, review and adjudicate requests. In the interests of equity, an appeal process should be made explicit and transparent to all. This information should be well publicized to staff, patients and visitors in a consistent and sensitive manner. Every reasonable effort should be made to protect the individual patient's identity and their specific health status should exceptionality be considered.It is ethically the responsibility of the organization to enforce compliance with restricted visitation and a corporate department should be assigned this task.Although it is recognized that standardization in the application of visitation restrictions is necessary, there is recognition that there may be circumstances that would require deviation from the corporate position.\\n\\nCompeting interests\\n\\nThe author has declared no competing interests.\\n\\nAbbreviations\\n\\nSARS = severe acute respiratory syndrome\\n\\n\""
      ]
     },
     "execution_count": 2,
     "metadata": {},
     "output_type": "execute_result"
    }
   ],
   "source": [
    " df=pd.read_csv(\"capstone_data.csv\")\n",
    "#Generating a single article for the initial example\n",
    "text=df['text_body'][1]\n",
    "text"
   ]
  },
  {
   "cell_type": "code",
   "execution_count": 3,
   "metadata": {},
   "outputs": [],
   "source": [
    "# Build a List of Stopwords\n",
    "stopwords = list(STOP_WORDS)"
   ]
  },
  {
   "cell_type": "code",
   "execution_count": 4,
   "metadata": {},
   "outputs": [
    {
     "name": "stdout",
     "output_type": "stream",
     "text": [
      "Number of stop words: 326\n",
      "First ten stop words: ['become', 'sometimes', 'whatever', 'quite', 'with', 'enough', 'it', 'below', 'all', 'many']\n"
     ]
    }
   ],
   "source": [
    "spacy_stopwords = spacy.lang.en.stop_words.STOP_WORDS\n",
    "print('Number of stop words: %d' % len(spacy_stopwords))\n",
    "print('First ten stop words: %s' % list(spacy_stopwords)[:10])"
   ]
  },
  {
   "cell_type": "code",
   "execution_count": 5,
   "metadata": {},
   "outputs": [],
   "source": [
    "#Customizing the stopwords in the SpaCy library.\n",
    "#This Spacy model has 326 stop words.I'm adding a few more to that list\n",
    "#Research papers will often frequently use words that don't actually contribute to the meaning and are not considered \n",
    "#everyday stopwords.\n",
    "from spacy.lang.en.stop_words import STOP_WORDS # stop words list\n",
    "custom_stop_words = [\n",
    "    'doi', 'preprint', 'copyright', 'peer', 'reviewed', 'org', 'https', 'et', 'al', 'author', 'figure','journals','april' \n",
    "    'rights', 'reserved', 'permission', 'used', 'using', 'biorxiv', 'medrxiv', 'license', 'fig', 'fig.', ''\n",
    "    'al.', 'Elsevier', 'PMC', 'CZI', 'www','image','figures','tables','introduction','materials and methods','results'\n",
    "]\n",
    "\n",
    "for w in custom_stop_words:\n",
    "    if w not in stopwords:\n",
    "        stopwords.append(w)\n"
   ]
  },
  {
   "cell_type": "code",
   "execution_count": 6,
   "metadata": {},
   "outputs": [],
   "source": [
    "def top_sentence(text, limit):\n",
    "    keyword = [] #make a list of the key words\n",
    "    pos_tag = ['PROPN', 'ADJ', 'NOUN', 'VERB']#propernouns, nouns and adjectives are usually keywords\n",
    "    doc = nlp(text.lower())\n",
    "    for token in doc:\n",
    "        if(token.text in nlp.Defaults.stop_words or token.text in punctuation):\n",
    "            continue\n",
    "        if(token.pos_ in pos_tag):\n",
    "            keyword.append(token.text)#Append the token to a list if it is the part-of-speech tag that we have defined.\n",
    "            \n",
    "            \n",
    "            \n",
    "            \n",
    "  #Normalizing the weights of the key words  \n",
    "    freq_word = Counter(keyword)#Counter will convert the list into a dictionary with their respective frequency values.\n",
    "    max_freq = Counter(keyword).most_common(1)[0][1]#Get the frequency of the top most-common keyword.\n",
    "    for w in freq_word:\n",
    "        freq_word[w] = (freq_word[w]/max_freq)#Loop over each item in the dictionary and normalize the frequency. \n",
    "        \n",
    "        \n",
    "        \n",
    " # calculate the importance of the sentences by identifying the occurrence of important keywords and sum up the value.       \n",
    "    sent_strength={}\n",
    "    for sent in doc.sents:\n",
    "        for word in sent:\n",
    "            if word.text in freq_word.keys():\n",
    "                if sent in sent_strength.keys():\n",
    "                    sent_strength[sent]+=freq_word[word.text]\n",
    "                else:\n",
    "                    sent_strength[sent]=freq_word[word.text]\n",
    "#Finally,Create a new key-value in the sent_strength dictionary using the sentence \n",
    "#as key and the normalized keyword value as value.\n",
    "\n",
    "\n",
    "    summary = []\n",
    "    \n",
    "    sorted_x = sorted(sent_strength.items(), key=lambda kv: kv[1], reverse=True)\n",
    "    \n",
    "    counter = 0\n",
    "    for i in range(len(sorted_x)):\n",
    "        summary.append(str(sorted_x[i][0]).capitalize())\n",
    "\n",
    "        counter += 1\n",
    "        if(counter >= limit):\n",
    "            break\n",
    "            \n",
    "    return ' '.join(summary)"
   ]
  },
  {
   "cell_type": "code",
   "execution_count": 7,
   "metadata": {},
   "outputs": [
    {
     "data": {
      "text/plain": [
       "\"It could be argued that visitation restrictions, in light of a potential outbreak of a contagious disease, are ethically sound because of the compelling need to protect public health.however, even when public health concerns trump individual liberties, the ethical operationalization of this value would demand that 'those whose rights are being infringed' need to be managed in 'an ethical and even-handed manner so that they are not unfairly or disproportionately harmed by such measures' [1].this is an important and far-reaching consideration because sars caused collateral damage and we know that the implementation of visitation restrictions will have an impact on a broad range of individuals. When public health trumps civil liberties: the collateral damage associated with victims of sars\\n\\nour infectious disease colleagues are adamant that restricting the movement of people into and around the hospital setting are effective clinical and epidemiological strategies that will help protect both the vulnerable patient population and health care providers themselves, who need to stay healthy so that they may care for their patients.\""
      ]
     },
     "execution_count": 7,
     "metadata": {},
     "output_type": "execute_result"
    }
   ],
   "source": [
    "#Im selecting the top 5 sentences to generate my summary\n",
    "summary = top_sentence(text, 2)\n",
    "summary"
   ]
  },
  {
   "cell_type": "code",
   "execution_count": 8,
   "metadata": {},
   "outputs": [
    {
     "data": {
      "text/plain": [
       "{'rouge1': Score(precision=0.5057471264367817, recall=0.5432098765432098, fmeasure=0.5238095238095238),\n",
       " 'rouge2': Score(precision=0.32947976878612717, recall=0.35403726708074534, fmeasure=0.3413173652694611)}"
      ]
     },
     "execution_count": 8,
     "metadata": {},
     "output_type": "execute_result"
    }
   ],
   "source": [
    "#Evaluation\n",
    "#Read reference summary\n",
    "ref_summary = '''Our infectious disease colleagues are adamant that restricting the movement of people into and around the hospital setting are effective clinical and epidemiological strategies that will help protect both the vulnerable patient population and health care providers themselves, \n",
    "who need to stay healthy so that they may care for their patients. In a health care institution, visitation restrictions not only affect inpatients but also have an impact on ambulatory patients who must come for diagnostic tests or interventions and who, if deprived access, might develop urgent or emergent conditions.\n",
    "Feedback should be sought from those individuals who would be affected by visitation restrictions, such as staff, patients and family members.Health care workers, being in direct communication with patients and families, bear the brunt of their anger and frustration regarding any restriction in visitation.\n",
    "If a family is allowed to visit a patient whose death is presumed to be imminent, then the patient's identity should be protected by using privacy strategies.\n",
    "'''\n",
    "\n",
    "#The abstract is the target: Text containing the target (ground truth) text.- The Gold Standard\n",
    "# the summary generated is the prediction: Text containing the predicted text.\n",
    "\n",
    "\n",
    "from rouge_score import rouge_scorer\n",
    "\n",
    "scorer = rouge_scorer.RougeScorer(['rouge1','rouge2'], use_stemmer=True)\n",
    "scores = scorer.score(ref_summary,summary)\n",
    "                      \n",
    "scores"
   ]
  },
  {
   "cell_type": "code",
   "execution_count": 9,
   "metadata": {},
   "outputs": [
    {
     "name": "stdout",
     "output_type": "stream",
     "text": [
      "Word count of full text is: 1801\n",
      "Word count of reference summarized text is: 160\n",
      "Word count of summarized text is: 170\n"
     ]
    }
   ],
   "source": [
    "### length of full text and word count\n",
    "print(\"Word count of full text is:\",len(text.split()))\n",
    "# length of summarized text and word count\n",
    "print(\"Word count of reference summarized text is:\",len(ref_summary.split()))\n",
    "print(\"Word count of summarized text is:\",len(summary.split()))"
   ]
  },
  {
   "cell_type": "markdown",
   "metadata": {},
   "source": [
    "### Generating Keywords function\n",
    "I’ll be writing the keyword extraction code inside a function. It’s a lot more convenient and I can easily call it whenever I need to extract keywords from a big chunk of text. It accepts a string as an input parameter.\n",
    "sOURCE: https://medium.com/better-programming/extract-keywords-using-spacy-in-python-4a8415478fbf"
   ]
  },
  {
   "cell_type": "code",
   "execution_count": 10,
   "metadata": {},
   "outputs": [],
   "source": [
    "#Modifying the initial part of the get top sentence, to generate only the keywords\n",
    "def get_keywords(text):\n",
    "    result = []\n",
    "    pos_tag = ['PROPN', 'ADJ', 'NOUN']\n",
    "    doc = nlp(text.lower())\n",
    "    for token in doc:\n",
    "        \n",
    "        if(token.text in nlp.Defaults.stop_words or token.text in punctuation):\n",
    "            continue\n",
    "        \n",
    "        if(token.pos_ in pos_tag):\n",
    "            result.append(token.text)\n",
    "                \n",
    "    return result "
   ]
  },
  {
   "cell_type": "code",
   "execution_count": 11,
   "metadata": {
    "scrolled": true
   },
   "outputs": [
    {
     "name": "stdout",
     "output_type": "stream",
     "text": [
      "['introduction', 'sudden', 'emergence', 'severe', 'acute', 'respiratory', 'syndrome', 'sars', 'april', 'concern', 'reaction', 'refereed', 'medical', 'journals', 'rife', 'articles', 'sars', 'eventual', 'containment', 'treatment', 'sars', 'diminution', 'massive', 'media', 'publicity', 'overt', 'public', 'concern', 'fears', 'potential', 're-emergence', 'sars', 'near', 'future', 'potential', 'need', 'stringent', 'infection', 'control', 'measures', 'appropriate', 'time', 'ethical', 'values', 'strict', 'visitation', 'restrictions', 'hospitals', 'ontario', 'sars', 'outbreak', 'moderate', 'restrictions', 'place', 'sars', 'reflection', 'future', 'decision', 'respect', 'visitation', 'restrictions', 'public', 'health', 'trumps', 'civil', 'liberties', 'collateral', 'damage', 'victims', 'sars', 'infectious', 'disease', 'colleagues', 'adamant', 'movement', 'people', 'hospital', 'effective', 'clinical', 'epidemiological', 'strategies', 'vulnerable', 'patient', 'population', 'health', 'care', 'providers', 'healthy', 'patients', 'visitation', 'restrictions', 'supportive', 'public', 'health', 'protection', 'position', 'times', 'public', 'health', 'protection', 'protection', 'individual', 'freedom', 'visitation', 'restrictions', 'light', 'potential', 'outbreak', 'contagious', 'disease', 'sound', 'compelling', 'need', 'public', 'health.however', 'public', 'health', 'concerns', 'trump', 'individual', 'liberties', 'ethical', 'operationalization', 'value', 'rights', 'need', 'ethical', 'even-handed', 'manner', 'measures', 'important', 'far-reaching', 'consideration', 'sars', 'collateral', 'damage', 'implementation', 'visitation', 'restrictions', 'impact', 'broad', 'range', 'individuals', 'patients', 'carriers', 'contagious', 'pathogens', 'people', 'risk', 'epidemiological', 'link', 'contagious', 'disease', 'quarantine', 'restriction', 'movement', 'inconvenience', 'loss', 'pay', 'inability', 'important', 'vital', 'services', 'health', 'care', 'system', 'fact', 'general', 'trend', 'populace', 'meetings/gatherings', 'kissing', 'hugging', 'restrictions', 'reflective', 'loss', 'civil', 'liberties', 'general', 'population', 'expressions', 'difficult', 'time', 'people', 'most.in', 'health', 'care', 'institution', 'visitation', 'restrictions', 'inpatients', 'impact', 'ambulatory', 'patients', 'diagnostic', 'tests', 'interventions', 'deprived', 'access', 'urgent', 'emergent', 'conditions', 'restrictions', 'likely', 'distress', 'anxiety', 'complaints', 'fact', 'review', 'university', 'health', 'network', 'corporate', 'complaint', 'database', 'sars', 'period', 'march', '28–april', 'sars', 'period', 'increase', 'complaints', 'number', 'complaints', 'time', 'period', 'time', 'period', 'calls', 'complaint', 'sars', 'total', 'calls', 'complaint', 'data', 'complaints', 'site', 'corporation', 'database', 'set', 'problems', 'sensitivity', 'clarity', 'nyhof-young', 'colleagues', 'unpublished', 'data).in', 'view', 'magnitude', 'implications', 'visitor', 'restriction', 'important', 'policy', 'decisions', 'micro', 'macro', 'level', 'issues', 'equity', 'publicity', 'transparency', 'appeal', 'process', 'issues', 'equity', 'consideration', 'known', 'facts', 'scientific', 'perspective', 'range', 'approaches', 'terms', 'transparency', 'diligence', 'rationale', 'policies', 'clear', 'unambiguous', 'possible', 'feedback', 'individuals', 'visitation', 'restrictions', 'staff', 'patients', 'family', 'members', 'policy', 'accessible', 'printed', 'hospital', 'people', 'rules', 'rationale', 'rules', 'processes', 'available', 'rules', 'ways', 'special', 'circumstances.visitation', 'policy', 'developers', 'exceptional', 'circumstances', 'exceptional', 'latitude', 'development', 'criteria', 'exceptionality', 'need', 'proportionality', 'criteria', 'relevant', 'legitimate', 'necessary', 'discrimination', 'consistent', 'expectations', 'transparency', 'criteria', 'exceptionality', 'rules', 'visitation', 'restriction', 'organization', 'staff', 'patients', 'visitors', 'experience', 'sars', 'corporate', 'policy', 'expectation', 'compliance', 'corporate', 'policy', 'local', 'patient', 'needs', 'stringent', 'adherence', 'rules', 'degree', 'adherence', 'opportunity', 'broad', 'notification', 'example', 'current', 'policy', 'specific', 'times', 'visitation', 'numbers', 'visitors', 'day', 'sudden', 'outbreak', 'quick', 'lockdown', 'facility', 'patients', 'family', 'members', 'prior', 'notice', 'health', 'care', 'workers', 'duty', 'duty', 'institutions', 'health', 'care', 'professional', 'duty', 'ethical', 'considerations', 'professional', 'code', 'conduct', 'intrinsic', 'requirements', 'work', 'acceptance', 'risk', 'decision', 'specific', 'type', 'work', 'duty', 'patients', 'broader', 'duty', 'family', 'visitation', 'restrictions', 'ability', 'health', 'care', 'providers', 'awkward', 'position', 'private', 'personal', 'messages', 'patients', 'family', 'members', 'updates', 'bad', 'news', 'phone', 'ability', 'empathy', 'support', 'health', 'care', 'workers', 'direct', 'communication', 'patients', 'families', 'brunt', 'anger', 'frustration', 'restriction', 'visitation.there', 'implicit', 'acceptance', 'reciprocity', 'hospital', 'organization', 'individual', 'staff', 'member', 'end', 'organization', 'responsibility', 'rules', 'staff', 'patients', 'visitors', 'responsibility', 'organization', 'compliance', 'rules', 'responsibility', 'staff', 'primary', 'responsibility', 'duty', 'care', 'patient', 'organization', 'responsibility', 'set', 'criteria', 'exceptionality', 'process', 'adjudicate', 'requests', 'process', 'appropriate', 'resources', 'staff', 'members', 'support', 'able', 'easy', 'expeditious', 'manner', 'names', 'communities', 'privacy', 'personal', 'information', 'public', 'need', 'interests', 'public', 'good', 'times', 'information', 'rights', 'individual', 'privacy', 'confidentiality', 'respect', 'restricted', 'visitation', 'ethical', 'argument', 'visitation', 'restrictions', 'latitude', 'names', 'vigilant', 'observer', 'able', 'specific', 'person', 'changed', 'application', 'rule', 'organization', 'possible', 'identification', 'effort', 'individual', 'easy', 'identification', 'example', 'family', 'patient', 'death', 'imminent', 'hours', 'patient', 'identity', 'privacy', 'strategies', 'efforts', 'patient', 'identity', 'consistent', 'ethical', 'value', 'protection', 'communities', 'undue', 'stigmatization', 'sars', 'world', 'risks', 'contagious', 'pathogens', 'easy', 'mode', 'transmission', 'important', 'consistency', 'management', 'ideal', 'situation', 'consistent', 'global', 'approach', 'management', 'contagious', 'pathogen', 'notion', 'universal', 'management', 'strategies', 'sensible', 'universal', 'precautions', 'blood-borne', 'conditions', 'hiv', 'political', 'economic', 'disparities', 'world', 'lack', 'knowledge', 'pathogens', 'standardized', 'approach', 'possible.the', 'experience', 'sars', 'patient', 'populations', 'level', 'vigilance', 'stringent', 'example', 'individuals', 'recent', 'travel', 'high', 'risk', 'areas', 'contaminated', 'hospitals', 'clear', 'symptoms', 'fever', 'persistent', 'cough', 'vigilance', 'fact', 'visitors', 'screening', 'process', 'type', 'variability', 'vigilance', 'demands', 'ethical', 'management', 'differences', 'need', 'overt', 'bias', 'discrimination', 'process.it', 'difficult', 'standardization', 'approach', 'variability', 'approach', 'operational', 'challenge', 'awareness', 'ethical', 'values', 'appropriate', 'diligence', 'implementation', 'processes', 'conclusion', 'ethical', 'public', 'health', 'protection', 'trumps', 'individual', 'rights', 'liberal', 'visitation', 'rationale', 'position', 'patients', 'visitors', 'staff.in', 'visitors', 'visitation', 'ethical', 'exceptional', 'circumstances', 'exceptional', 'latitude', 'set', 'criteria', 'exceptionality', 'process', 'adjudicate', 'requests', 'interests', 'equity', 'appeal', 'process', 'explicit', 'transparent', 'information', 'staff', 'patients', 'visitors', 'consistent', 'sensitive', 'manner', 'reasonable', 'effort', 'individual', 'patient', 'identity', 'specific', 'health', 'status', 'exceptionality', 'considered.it', 'responsibility', 'organization', 'compliance', 'restricted', 'visitation', 'corporate', 'department', 'task.although', 'standardization', 'application', 'visitation', 'restrictions', 'necessary', 'recognition', 'circumstances', 'deviation', 'corporate', 'position', 'interests', 'author', 'interests', 'abbreviations', 'severe', 'acute', 'respiratory', 'syndrome']\n"
     ]
    }
   ],
   "source": [
    "keywords = get_keywords(text)\n",
    "#Generate the keywords\n",
    "print(keywords)"
   ]
  },
  {
   "cell_type": "code",
   "execution_count": 12,
   "metadata": {},
   "outputs": [
    {
     "name": "stdout",
     "output_type": "stream",
     "text": [
      "704\n"
     ]
    }
   ],
   "source": [
    "print(len(keywords))\n",
    "#I can see alot of duplication"
   ]
  },
  {
   "cell_type": "code",
   "execution_count": 13,
   "metadata": {},
   "outputs": [
    {
     "name": "stdout",
     "output_type": "stream",
     "text": [
      "{'brunt', 'messages', 'contaminated', 'liberal', 'application', 'resources', 'health.however', 'transparency', 'expressions', 'quarantine', 'needs', 'level', 'numbers', 'ideal', 'institution', 'direct', 'near', 'code', 'challenge', 'travel', 'appeal', 'pay', 'anger', 'argument', 'times', 'consideration', 'rules', 'stigmatization', 'global', 'ambulatory', 'private', 'freedom', 'healthy', 'sensitive', 'primary', 'workers', 'exceptional', 'reflection', 'status', 'vulnerable', 'deviation', 'trumps', 'contagious', 'bias', 'ethical', 'differences', 'distress', 'symptoms', 'epidemiological', 'identity', 'political', 'respect', 'special', 'facility', 'media', 'precautions', 'accessible', 'decisions', 'notification', 'awareness', 'situation', 'problems', 'total', 'inability', 'standardized', 'strict', 'damage', 'inconvenience', 'values', 'macro', 'people', 'notice', 'moderate', 'even-handed', 'emergence', 'conclusion', 'communication', 'clinical', 'organization', 'university', 'recent', 'manner', 'member', 'decision', 'work', 'period', 'set', 'movement', 'corporate', 'policies', 'areas', 'overt', 'families', 'colleagues', 'author', 'sensitivity', 'far-reaching', 'impact', 'latitude', 'changed', 'acceptance', 'issues', 'hospitals', 'current', 'inpatients', 'high', 'victims', 'data', 'circumstances.visitation', 'consistent', 'terms', 'day', 'risks', 'consistency', 'measures', 'system', 'members', 'recognition', 'fever', 'access', 'hugging', 'urgent', 'information', 'health', 'providers', '28–april', 'staff.in', 'fears', 'clear', 'names', 'introduction', 'process.it', 'services', 'interventions', 'observer', 'march', 'expeditious', 're-emergence', 'implicit', 'sound', 'mode', 'patient', 'privacy', 'specific', 'confidentiality', 'hospital', 'loss', 'diligence', 'development', 'efforts', 'easy', 'rule', 'persistent', 'requirements', 'concern', 'prior', 'broader', 'news', 'identification', 'deprived', 'restrictions', 'collateral', 'economic', 'increase', 'ontario', 'protection', 'need', 'restriction', 'diminution', 'rights', 'conditions', 'quick', 'review', 'pathogen', 'adjudicate', 'opportunity', 'adherence', 'populations', 'compliance', 'civil', 'feedback', 'imminent', 'facts', 'intrinsic', 'light', 'visitation', 'unambiguous', 'data).in', 'responsibility', 'frustration', 'updates', 'reaction', 'place', 'abbreviations', 'pathogens', 'kissing', 'death', 'sudden', 'printed', 'expectation', 'complaints', 'possible.the', 'explicit', 'reflective', 'population', 'disease', 'most.in', 'eventual', 'calls', 'bad', 'likely', 'scientific', 'cough', 'articles', 'appropriate', 'duty', 'refereed', 'view', 'relevant', 'blood-borne', 'requests', 'number', 'individuals', 'trend', 'sensible', 'position', 'exceptionality', 'lack', 'legitimate', 'clarity', 'interests', 'sars', 'family', 'acute', 'liberties', 'support', 'process', 'lockdown', 'standardization', 'visitation.there', 'respiratory', 'adamant', 'micro', 'local', 'type', 'world', 'approach', 'containment', 'undue', 'reciprocity', 'operationalization', 'risk', 'diagnostic', 'effective', 'example', 'fact', 'hours', 'outbreak', 'nyhof-young', 'publicity', 'disparities', 'good', 'degree', 'phone', 'individual', 'visitors', 'discrimination', 'link', 'available', 'transparent', 'able', 'expectations', 'range', 'corporation', 'management', 'task.although', 'screening', 'magnitude', 'public', 'reasonable', 'processes', 'ability', 'april', 'massive', 'meetings/gatherings', 'transmission', 'syndrome', 'potential', 'communities', 'unpublished', 'compelling', 'known', 'vital', 'proportionality', 'ways', 'end', 'care', 'infectious', 'supportive', 'considerations', 'developers', 'restricted', 'universal', 'strategies', 'notion', 'treatment', 'carriers', 'infection', 'patients', 'complaint', 'visitor', 'person', 'future', 'site', 'tests', 'criteria', 'effort', 'equity', 'journals', 'conduct', 'circumstances', 'anxiety', 'value', 'network', 'implementation', 'hiv', 'trump', 'policy', 'awkward', 'experience', 'empathy', 'database', 'demands', 'vigilant', 'rationale', 'populace', 'general', 'considered.it', 'stringent', 'vigilance', 'broad', 'emergent', 'time', 'control', 'concerns', 'severe', 'difficult', 'implications', 'approaches', 'knowledge', 'operational', 'rife', 'institutions', 'medical', 'staff', 'perspective', 'variability', 'professional', 'necessary', 'possible', 'department', 'important', 'personal'}\n"
     ]
    }
   ],
   "source": [
    "#Remove duplicate items\n",
    "#using the set function deletes the duplicates\n",
    "keywd = set(get_keywords(text))\n",
    "print(keywd)"
   ]
  },
  {
   "cell_type": "code",
   "execution_count": 14,
   "metadata": {},
   "outputs": [
    {
     "name": "stdout",
     "output_type": "stream",
     "text": [
      "363\n"
     ]
    }
   ],
   "source": [
    "#This time ive got 363 keywords instead of 703 duplicated keywords\n",
    "print(len(keywd))"
   ]
  },
  {
   "cell_type": "code",
   "execution_count": 15,
   "metadata": {
    "scrolled": true
   },
   "outputs": [
    {
     "name": "stdout",
     "output_type": "stream",
     "text": [
      "#brunt #messages #contaminated #liberal #application #resources #health.however #transparency #expressions #quarantine #needs #level #numbers #ideal #institution #direct #near #code #challenge #travel #appeal #pay #anger #argument #times #consideration #rules #stigmatization #global #ambulatory #private #freedom #healthy #sensitive #primary #workers #exceptional #reflection #status #vulnerable #deviation #trumps #contagious #bias #ethical #differences #distress #symptoms #epidemiological #identity #political #respect #special #facility #media #precautions #accessible #decisions #notification #awareness #situation #problems #total #inability #standardized #strict #damage #inconvenience #values #macro #people #notice #moderate #even-handed #emergence #conclusion #communication #clinical #organization #university #recent #manner #member #decision #work #period #set #movement #corporate #policies #areas #overt #families #colleagues #author #sensitivity #far-reaching #impact #latitude #changed #acceptance #issues #hospitals #current #inpatients #high #victims #data #circumstances.visitation #consistent #terms #day #risks #consistency #measures #system #members #recognition #fever #access #hugging #urgent #information #health #providers #28–april #staff.in #fears #clear #names #introduction #process.it #services #interventions #observer #march #expeditious #re-emergence #implicit #sound #mode #patient #privacy #specific #confidentiality #hospital #loss #diligence #development #efforts #easy #rule #persistent #requirements #concern #prior #broader #news #identification #deprived #restrictions #collateral #economic #increase #ontario #protection #need #restriction #diminution #rights #conditions #quick #review #pathogen #adjudicate #opportunity #adherence #populations #compliance #civil #feedback #imminent #facts #intrinsic #light #visitation #unambiguous #data).in #responsibility #frustration #updates #reaction #place #abbreviations #pathogens #kissing #death #sudden #printed #expectation #complaints #possible.the #explicit #reflective #population #disease #most.in #eventual #calls #bad #likely #scientific #cough #articles #appropriate #duty #refereed #view #relevant #blood-borne #requests #number #individuals #trend #sensible #position #exceptionality #lack #legitimate #clarity #interests #sars #family #acute #liberties #support #process #lockdown #standardization #visitation.there #respiratory #adamant #micro #local #type #world #approach #containment #undue #reciprocity #operationalization #risk #diagnostic #effective #example #fact #hours #outbreak #nyhof-young #publicity #disparities #good #degree #phone #individual #visitors #discrimination #link #available #transparent #able #expectations #range #corporation #management #task.although #screening #magnitude #public #reasonable #processes #ability #april #massive #meetings/gatherings #transmission #syndrome #potential #communities #unpublished #compelling #known #vital #proportionality #ways #end #care #infectious #supportive #considerations #developers #restricted #universal #strategies #notion #treatment #carriers #infection #patients #complaint #visitor #person #future #site #tests #criteria #effort #equity #journals #conduct #circumstances #anxiety #value #network #implementation #hiv #trump #policy #awkward #experience #empathy #database #demands #vigilant #rationale #populace #general #considered.it #stringent #vigilance #broad #emergent #time #control #concerns #severe #difficult #implications #approaches #knowledge #operational #rife #institutions #medical #staff #perspective #variability #professional #necessary #possible #department #important #personal\n"
     ]
    }
   ],
   "source": [
    "#Generate hashtags from keywords\n",
    "hashtags = [('#' + x) for x in keywd]\n",
    "print(' '.join(hashtags))"
   ]
  },
  {
   "cell_type": "markdown",
   "metadata": {},
   "source": [
    "### Name Entity Recognition "
   ]
  },
  {
   "cell_type": "code",
   "execution_count": 16,
   "metadata": {},
   "outputs": [
    {
     "data": {
      "text/plain": [
       "\"It could be argued that visitation restrictions, in light of a potential outbreak of a contagious disease, are ethically sound because of the compelling need to protect public health.however, even when public health concerns trump individual liberties, the ethical operationalization of this value would demand that 'those whose rights are being infringed' need to be managed in 'an ethical and even-handed manner so that they are not unfairly or disproportionately harmed by such measures' [1].this is an important and far-reaching consideration because sars caused collateral damage and we know that the implementation of visitation restrictions will have an impact on a broad range of individuals. When public health trumps civil liberties: the collateral damage associated with victims of sars\\n\\nour infectious disease colleagues are adamant that restricting the movement of people into and around the hospital setting are effective clinical and epidemiological strategies that will help protect both the vulnerable patient population and health care providers themselves, who need to stay healthy so that they may care for their patients.\""
      ]
     },
     "execution_count": 16,
     "metadata": {},
     "output_type": "execute_result"
    }
   ],
   "source": [
    "summary"
   ]
  },
  {
   "cell_type": "code",
   "execution_count": 17,
   "metadata": {
    "scrolled": true
   },
   "outputs": [
    {
     "name": "stdout",
     "output_type": "stream",
     "text": [
      "visitation ENTITY\n",
      "restrictions ENTITY\n",
      "outbreak ENTITY\n",
      "contagious disease ENTITY\n",
      "public ENTITY\n",
      "public health ENTITY\n",
      "individual ENTITY\n",
      "ethical operationalization ENTITY\n",
      "rights ENTITY\n",
      "ethical ENTITY\n",
      "even-handed ENTITY\n",
      "measures ENTITY\n",
      "sars ENTITY\n",
      "collateral damage ENTITY\n",
      "implementation ENTITY\n",
      "visitation ENTITY\n",
      "restrictions ENTITY\n",
      "impact ENTITY\n",
      "individuals ENTITY\n",
      "public health trumps ENTITY\n",
      "civil liberties ENTITY\n",
      "collateral damage ENTITY\n",
      "associated with ENTITY\n",
      "victims ENTITY\n",
      "sars ENTITY\n",
      "infectious disease ENTITY\n",
      "adamant ENTITY\n",
      "movement ENTITY\n",
      "people ENTITY\n",
      "hospital setting ENTITY\n",
      "effective ENTITY\n",
      "clinical ENTITY\n",
      "epidemiological strategies ENTITY\n",
      "vulnerable ENTITY\n",
      "patient ENTITY\n",
      "health care providers ENTITY\n",
      "healthy ENTITY\n",
      "care ENTITY\n",
      "patients ENTITY\n"
     ]
    }
   ],
   "source": [
    "# Process the text\n",
    "doc = nlp(summary)\n",
    "# Iterate over the entities\n",
    "for ent in doc.ents:\n",
    "    # Print the entity text and label\n",
    "    print(ent.text, ent.label_)\n",
    "    "
   ]
  },
  {
   "cell_type": "code",
   "execution_count": 18,
   "metadata": {},
   "outputs": [
    {
     "name": "stderr",
     "output_type": "stream",
     "text": [
      "C:\\Users\\GregFlo\\anaconda3\\envs\\dl\\lib\\site-packages\\spacy\\util.py:275: UserWarning: [W031] Model 'en_ner_jnlpba_md' (0.2.4) requires spaCy v2.2 and is incompatible with the current spaCy version (2.3.2). This may lead to unexpected results or runtime errors. To resolve this, download a newer compatible model or retrain your custom model with the current spaCy version. For more details and available updates, run: python -m spacy validate\n",
      "  warnings.warn(warn_msg)\n",
      "C:\\Users\\GregFlo\\anaconda3\\envs\\dl\\lib\\site-packages\\spacy\\displacy\\__init__.py:189: UserWarning: [W006] No entities to visualize found in Doc object. If this is surprising to you, make sure the Doc was processed using a model that supports named entity recognition, and check the `doc.ents` property manually if necessary.\n",
      "  warnings.warn(Warnings.W006)\n"
     ]
    },
    {
     "data": {
      "text/html": [
       "<span class=\"tex2jax_ignore\"><div class=\"entities\" style=\"line-height: 2.5; direction: ltr\">It could be argued that visitation restrictions, in light of a potential outbreak of a contagious disease, are ethically sound because of the compelling need to protect public health.however, even when public health concerns trump individual liberties, the ethical operationalization of this value would demand that 'those whose rights are being infringed' need to be managed in 'an ethical and even-handed manner so that they are not unfairly or disproportionately harmed by such measures' [1].this is an important and far-reaching consideration because sars caused collateral damage and we know that the implementation of visitation restrictions will have an impact on a broad range of individuals. When public health trumps civil liberties: the collateral damage associated with victims of sars\n",
       "\n",
       "our infectious disease colleagues are adamant that restricting the movement of people into and around the hospital setting are effective clinical and epidemiological strategies that will help protect both the vulnerable patient population and health care providers themselves, who need to stay healthy so that they may care for their patients.</div></span>"
      ],
      "text/plain": [
       "<IPython.core.display.HTML object>"
      ]
     },
     "metadata": {},
     "output_type": "display_data"
    }
   ],
   "source": [
    "#read a single text =summary\n",
    "\n",
    "\n",
    "#Load specific model and pass text through\n",
    "nlp = en_ner_jnlpba_md.load()\n",
    "doc = nlp(summary)\n",
    "\n",
    "#Display resulting entity extraction\n",
    "displacy_image = displacy.render(doc, jupyter=True,style='ent')"
   ]
  },
  {
   "cell_type": "code",
   "execution_count": 22,
   "metadata": {},
   "outputs": [
    {
     "ename": "SyntaxError",
     "evalue": "invalid character in identifier (<ipython-input-22-95b03e54d72d>, line 4)",
     "output_type": "error",
     "traceback": [
      "\u001b[1;36m  File \u001b[1;32m\"<ipython-input-22-95b03e54d72d>\"\u001b[1;36m, line \u001b[1;32m4\u001b[0m\n\u001b[1;33m    displacy_image = displacy,render(doc, jupyter = True, style = ‘ent’)\u001b[0m\n\u001b[1;37m                                                                      ^\u001b[0m\n\u001b[1;31mSyntaxError\u001b[0m\u001b[1;31m:\u001b[0m invalid character in identifier\n"
     ]
    }
   ],
   "source": [
    "#Load all four ner models\n",
    "nlp_cr = en_ner_craft_md.load()\n",
    "nlp_bc = en_ner_bc5cdr_md.load()\n",
    "nlp_bi = en_ner_bionlp13cg_md.load()\n",
    "nlp_jn = en_ner_jnlpba_md.load()\n",
    "# Process the text\n",
    "doc = nlp(summary)\n",
    "\n",
    "displacy_image = displacy,render(doc, jupyter = True, style = ‘ent’)"
   ]
  },
  {
   "cell_type": "code",
   "execution_count": null,
   "metadata": {},
   "outputs": [],
   "source": []
  },
  {
   "cell_type": "markdown",
   "metadata": {},
   "source": [
    "### Reading Time"
   ]
  },
  {
   "cell_type": "code",
   "execution_count": null,
   "metadata": {},
   "outputs": [],
   "source": [
    "# Get Total Word Counts with Tokenization\n",
    "docx1 = nlp(text)"
   ]
  },
  {
   "cell_type": "code",
   "execution_count": null,
   "metadata": {},
   "outputs": [],
   "source": [
    "# Tokens\n",
    "mytokens = [ token.text for token in docx1 ]\n",
    "# Total Number or Length of Words\n",
    "len(mytokens)"
   ]
  },
  {
   "cell_type": "code",
   "execution_count": null,
   "metadata": {},
   "outputs": [],
   "source": [
    "# Reading Time\n",
    "def readingTime(docs):\n",
    "    total_words_tokens =  [ token.text for token in nlp(docs)]\n",
    "    estimatedtime  = len(total_words_tokens)/265\n",
    "    return '{} mins'.format(round(estimatedtime))"
   ]
  },
  {
   "cell_type": "code",
   "execution_count": null,
   "metadata": {},
   "outputs": [],
   "source": [
    "readingTime(text)"
   ]
  },
  {
   "cell_type": "code",
   "execution_count": null,
   "metadata": {
    "scrolled": true
   },
   "outputs": [],
   "source": [
    "### length of full text and word count\n",
    "print(\"Word count of full text is:\",len(text.split()))\n",
    "# length of summarized text and word count\n",
    "print(\"Word count of summarized text is:\",len(summary.split()))\n",
    "#Reading time of text\n",
    "print('Reading time of full text:',readingTime(text))\n",
    "#Reading time of text\n",
    "print('Reading time of summary:',readingTime(summary))\n",
    "print('The Rouge Metrics are:\\n')\n",
    "scores"
   ]
  },
  {
   "cell_type": "markdown",
   "metadata": {},
   "source": [
    "This model has a lower score than the gensim model, however, its extremely flexible and I can customize it\n",
    "A pipeline can be used to preprocess the text and post process after summary generation, to display name entity recognition and keywords.Another benefit of using SciSpacy is that ithas acronym and  abbreviation recognition "
   ]
  },
  {
   "cell_type": "code",
   "execution_count": null,
   "metadata": {},
   "outputs": [],
   "source": []
  }
 ],
 "metadata": {
  "kernelspec": {
   "display_name": "dl",
   "language": "python",
   "name": "dl"
  },
  "language_info": {
   "codemirror_mode": {
    "name": "ipython",
    "version": 3
   },
   "file_extension": ".py",
   "mimetype": "text/x-python",
   "name": "python",
   "nbconvert_exporter": "python",
   "pygments_lexer": "ipython3",
   "version": "3.6.11"
  }
 },
 "nbformat": 4,
 "nbformat_minor": 4
}
